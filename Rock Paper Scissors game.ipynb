{
 "cells": [
  {
   "cell_type": "code",
   "execution_count": 1,
   "id": "a6b6d4dc",
   "metadata": {},
   "outputs": [
    {
     "name": "stdout",
     "output_type": "stream",
     "text": [
      "Choices: \n",
      "(R)ock \n",
      "(P)aper \n",
      "(S)cissors \n",
      "\n",
      "Pick: R\n",
      "It's a draw, both players picked r: \n"
     ]
    }
   ],
   "source": [
    "import random\n",
    "\n",
    "CHOICES = 'rps'\n",
    "\n",
    "\n",
    "def get_player_choice():\n",
    "    \"\"\"Get user input and validate it is one of the choices above\"\"\"\n",
    "    player_choice = None\n",
    "    while player_choice is None:\n",
    "        player_choice = input('Choices: \\n(R)ock \\n(P)aper \\n(S)cissors \\n\\nPick: ')\n",
    "        if player_choice.lower() not in CHOICES:\n",
    "            player_choice = None\n",
    "    return player_choice.lower()\n",
    "\n",
    "\n",
    "def get_computer_choice():\n",
    "    \"\"\"Have the computer pick one of the valid choices at random\"\"\"\n",
    "    computer_choice = random.randint(0, 2)\n",
    "    computer_choice = CHOICES[computer_choice]\n",
    "    return computer_choice\n",
    "\n",
    "\n",
    "def is_draw(player_choice, computer_choice):\n",
    "    \"\"\"Check if game was a draw\"\"\"\n",
    "    if player_choice == computer_choice:\n",
    "        return True\n",
    "\n",
    "\n",
    "def print_winner(player_choice, computer_choice):\n",
    "    \"\"\"Check to see who won\"\"\"\n",
    "    if player_choice == 'r' and computer_choice == 's':\n",
    "        print('Player wins!')\n",
    "    elif player_choice == 's' and computer_choice == 'p':\n",
    "        print('Player wins!')\n",
    "    elif player_choice == 'p' and computer_choice == 'r':\n",
    "        print('Player wins!')\n",
    "    else:\n",
    "        print('Computer wins!')\n",
    "        print('%s beats %s' % (computer_choice, player_choice))\n",
    "\n",
    "\n",
    "def play_game():\n",
    "    \"\"\"play the game\"\"\"\n",
    "    player_choice = get_player_choice()\n",
    "    computer_choice = get_computer_choice()\n",
    "    if is_draw(player_choice, computer_choice):\n",
    "        print(\"It's a draw, both players picked %s: \" % player_choice)\n",
    "    else:\n",
    "        print(\"Computer picked: %s\" % computer_choice)\n",
    "        print(\"Player picked: %s\" % player_choice)\n",
    "        print_winner(player_choice, computer_choice)\n",
    "\n",
    "\n",
    "if __name__ == \"__main__\":\n",
    "    play_game()"
   ]
  }
 ],
 "metadata": {
  "kernelspec": {
   "display_name": "Python 3 (ipykernel)",
   "language": "python",
   "name": "python3"
  },
  "language_info": {
   "codemirror_mode": {
    "name": "ipython",
    "version": 3
   },
   "file_extension": ".py",
   "mimetype": "text/x-python",
   "name": "python",
   "nbconvert_exporter": "python",
   "pygments_lexer": "ipython3",
   "version": "3.9.7"
  }
 },
 "nbformat": 4,
 "nbformat_minor": 5
}
